{
  "nbformat": 4,
  "nbformat_minor": 0,
  "metadata": {
    "colab": {
      "provenance": [],
      "authorship_tag": "ABX9TyM4tsesVMKS8Q0MbVkbbAuH",
      "include_colab_link": true
    },
    "kernelspec": {
      "name": "python3",
      "display_name": "Python 3"
    },
    "language_info": {
      "name": "python"
    }
  },
  "cells": [
    {
      "cell_type": "markdown",
      "metadata": {
        "id": "view-in-github",
        "colab_type": "text"
      },
      "source": [
        "<a href=\"https://colab.research.google.com/github/kgolomoleba/AI-in-Software-Engineering-Week4/blob/main/Untitled1.ipynb\" target=\"_parent\"><img src=\"https://colab.research.google.com/assets/colab-badge.svg\" alt=\"Open In Colab\"/></a>"
      ]
    },
    {
      "cell_type": "markdown",
      "source": [],
      "metadata": {
        "id": "-IFnV3MmjB_a"
      }
    },
    {
      "cell_type": "markdown",
      "source": [
        "## Task 1: AI-Powered Code Completion\n",
        "\n",
        "In this task, I wrote a Python function to sort a list of dictionaries by a specific key. I first implemented the function manually and then compared it to an AI-generated suggestion from GitHub Copilot.\n",
        "\n",
        "The manual function uses Python's built-in `sorted()` method with a lambda function for the key. The AI-generated function adds error handling to manage cases where the key might not exist in all dictionaries, improving robustness.\n",
        "\n",
        "Both functions perform similarly on clean datasets, but the AI version is more fault-tolerant. This comparison shows how AI tools can speed up coding by suggesting improvements and handling edge cases, although developers should verify the suggestions for correctness.\n"
      ],
      "metadata": {
        "id": "22HRVzYIjE2h"
      }
    },
    {
      "cell_type": "code",
      "execution_count": 1,
      "metadata": {
        "colab": {
          "base_uri": "https://localhost:8080/"
        },
        "id": "nTytscnJivzN",
        "outputId": "b592a586-fb08-4e58-91a2-189d465c7840"
      },
      "outputs": [
        {
          "output_type": "stream",
          "name": "stdout",
          "text": [
            "Manual sorted: [{'name': 'Bob', 'age': 25}, {'name': 'Alice', 'age': 30}, {'name': 'Charlie', 'age': 35}]\n",
            "AI sorted: [{'name': 'Bob', 'age': 25}, {'name': 'Alice', 'age': 30}, {'name': 'Charlie', 'age': 35}]\n"
          ]
        }
      ],
      "source": [
        "# Manual implementation of sorting dictionaries by key\n",
        "def sort_dicts_manual(lst, key):\n",
        "    return sorted(lst, key=lambda x: x[key])\n",
        "\n",
        "# AI-suggested implementation with error handling\n",
        "def sort_dicts_ai(lst, key):\n",
        "    try:\n",
        "        return sorted(lst, key=lambda x: x[key])\n",
        "    except KeyError:\n",
        "        print(\"Key not found in one or more dictionaries.\")\n",
        "        return lst\n",
        "\n",
        "# Sample data\n",
        "data = [\n",
        "    {'name': 'Alice', 'age': 30},\n",
        "    {'name': 'Bob', 'age': 25},\n",
        "    {'name': 'Charlie', 'age': 35}\n",
        "]\n",
        "\n",
        "# Running manual sort\n",
        "sorted_manual = sort_dicts_manual(data, 'age')\n",
        "print(\"Manual sorted:\", sorted_manual)\n",
        "\n",
        "# Running AI sort\n",
        "sorted_ai = sort_dicts_ai(data, 'age')\n",
        "print(\"AI sorted:\", sorted_ai)\n"
      ]
    },
    {
      "cell_type": "markdown",
      "source": [
        "### Task 2: Automated Testing with AI\n",
        "\n",
        "This task demonstrates an automated test script using Selenium WebDriver in Python to validate a login page with both valid and invalid credentials.\n",
        "\n",
        "While tools like Selenium IDE and Testim.io provide AI-driven enhancements such as automatic test generation, self-healing tests, and adaptive maintenance, this example shows how Selenium scripts can automate repetitive test cases, saving manual testing effort and increasing coverage.\n",
        "\n",
        "AI in testing can also analyze test results and optimize test suites to focus on critical paths, improving overall software quality and release speed.\n",
        "\n",
        "This script uses a headless Chrome browser compatible with Google Colab environment and includes basic success/failure checks based on the URL after login attempt.\n",
        "\n",
        "Note: Replace the placeholder URL and element IDs with those of your actual application under test.\n"
      ],
      "metadata": {
        "id": "wzJfBuhvjSuK"
      }
    },
    {
      "cell_type": "code",
      "source": [
        "# ✅ TASK 2: Automated Testing with Selenium (Fixed for Colab)\n",
        "\n",
        "# Install Selenium + Chromium dependencies\n",
        "!apt-get update -q\n",
        "!apt install chromium-chromedriver -y\n",
        "!pip install selenium -q\n",
        "\n",
        "import time\n",
        "from selenium import webdriver\n",
        "from selenium.webdriver.common.by import By\n",
        "from selenium.webdriver.chrome.service import Service\n",
        "from selenium.webdriver.chrome.options import Options\n",
        "\n",
        "# ✅ Setup Chrome options for Colab\n",
        "chrome_options = Options()\n",
        "chrome_options.add_argument(\"--headless\")\n",
        "chrome_options.add_argument(\"--no-sandbox\")\n",
        "chrome_options.add_argument(\"--disable-dev-shm-usage\")\n",
        "\n",
        "# ✅ Use correct driver path for Colab\n",
        "service = Service('/usr/lib/chromium-browser/chromedriver')\n",
        "\n",
        "# ✅ Demo Login Page (WORKS!)\n",
        "login_url = \"https://practicetestautomation.com/practice-test-login/\"\n",
        "\n",
        "# ✅ Start WebDriver\n",
        "driver = webdriver.Chrome(service=service, options=chrome_options)\n",
        "\n",
        "def test_login(username, password):\n",
        "    \"\"\"Test login with given credentials and return True/False\"\"\"\n",
        "    driver.get(login_url)\n",
        "    time.sleep(2)\n",
        "\n",
        "    try:\n",
        "        # Locate fields & button\n",
        "        driver.find_element(By.ID, \"username\").send_keys(username)\n",
        "        driver.find_element(By.ID, \"password\").send_keys(password)\n",
        "        driver.find_element(By.ID, \"submit\").click()\n",
        "        time.sleep(2)\n",
        "\n",
        "        # ✅ Check if login succeeded\n",
        "        if \"Logged In Successfully\" in driver.page_source:\n",
        "            return True\n",
        "        else:\n",
        "            return False\n",
        "\n",
        "    except Exception as e:\n",
        "        print(\"Error locating elements:\", e)\n",
        "        return False\n",
        "\n",
        "# ✅ Run valid login test (should succeed)\n",
        "print(\"✅ Valid login test result:\", test_login(\"student\", \"Password123\"))\n",
        "\n",
        "# ✅ Run invalid login test (should fail)\n",
        "print(\"❌ Invalid login test result:\", test_login(\"wronguser\", \"wrongpass\"))\n",
        "\n",
        "# ✅ Close browser\n",
        "driver.quit()\n"
      ],
      "metadata": {
        "colab": {
          "base_uri": "https://localhost:8080/",
          "height": 723
        },
        "id": "dMFklA5djbub",
        "outputId": "d7b0ad3a-7830-4612-8d27-c1476c756d78"
      },
      "execution_count": 7,
      "outputs": [
        {
          "output_type": "stream",
          "name": "stdout",
          "text": [
            "Hit:1 http://security.ubuntu.com/ubuntu jammy-security InRelease\n",
            "Hit:2 https://developer.download.nvidia.com/compute/cuda/repos/ubuntu2204/x86_64  InRelease\n",
            "Hit:3 https://cloud.r-project.org/bin/linux/ubuntu jammy-cran40/ InRelease\n",
            "Hit:4 http://archive.ubuntu.com/ubuntu jammy InRelease\n",
            "Get:5 https://r2u.stat.illinois.edu/ubuntu jammy InRelease [6,555 B]\n",
            "Hit:6 http://archive.ubuntu.com/ubuntu jammy-updates InRelease\n",
            "Hit:7 http://archive.ubuntu.com/ubuntu jammy-backports InRelease\n",
            "Hit:8 https://ppa.launchpadcontent.net/deadsnakes/ppa/ubuntu jammy InRelease\n",
            "Hit:9 https://ppa.launchpadcontent.net/graphics-drivers/ppa/ubuntu jammy InRelease\n",
            "Hit:10 https://ppa.launchpadcontent.net/ubuntugis/ppa/ubuntu jammy InRelease\n",
            "Get:11 https://r2u.stat.illinois.edu/ubuntu jammy/main all Packages [9,142 kB]\n",
            "Get:12 https://r2u.stat.illinois.edu/ubuntu jammy/main amd64 Packages [2,768 kB]\n",
            "Fetched 11.9 MB in 3s (3,565 kB/s)\n",
            "Reading package lists...\n",
            "W: Skipping acquire of configured file 'main/source/Sources' as repository 'https://r2u.stat.illinois.edu/ubuntu jammy InRelease' does not seem to provide it (sources.list entry misspelt?)\n",
            "Reading package lists... Done\n",
            "Building dependency tree... Done\n",
            "Reading state information... Done\n",
            "chromium-chromedriver is already the newest version (1:85.0.4183.83-0ubuntu2.22.04.1).\n",
            "0 upgraded, 0 newly installed, 0 to remove and 35 not upgraded.\n"
          ]
        },
        {
          "output_type": "error",
          "ename": "WebDriverException",
          "evalue": "Message: Service /usr/lib/chromium-browser/chromedriver unexpectedly exited. Status code was: 1\n",
          "traceback": [
            "\u001b[0;31m---------------------------------------------------------------------------\u001b[0m",
            "\u001b[0;31mWebDriverException\u001b[0m                        Traceback (most recent call last)",
            "\u001b[0;32m/tmp/ipython-input-7-972389256.py\u001b[0m in \u001b[0;36m<cell line: 0>\u001b[0;34m()\u001b[0m\n\u001b[1;32m     25\u001b[0m \u001b[0;34m\u001b[0m\u001b[0m\n\u001b[1;32m     26\u001b[0m \u001b[0;31m# ✅ Start WebDriver\u001b[0m\u001b[0;34m\u001b[0m\u001b[0;34m\u001b[0m\u001b[0m\n\u001b[0;32m---> 27\u001b[0;31m \u001b[0mdriver\u001b[0m \u001b[0;34m=\u001b[0m \u001b[0mwebdriver\u001b[0m\u001b[0;34m.\u001b[0m\u001b[0mChrome\u001b[0m\u001b[0;34m(\u001b[0m\u001b[0mservice\u001b[0m\u001b[0;34m=\u001b[0m\u001b[0mservice\u001b[0m\u001b[0;34m,\u001b[0m \u001b[0moptions\u001b[0m\u001b[0;34m=\u001b[0m\u001b[0mchrome_options\u001b[0m\u001b[0;34m)\u001b[0m\u001b[0;34m\u001b[0m\u001b[0;34m\u001b[0m\u001b[0m\n\u001b[0m\u001b[1;32m     28\u001b[0m \u001b[0;34m\u001b[0m\u001b[0m\n\u001b[1;32m     29\u001b[0m \u001b[0;32mdef\u001b[0m \u001b[0mtest_login\u001b[0m\u001b[0;34m(\u001b[0m\u001b[0musername\u001b[0m\u001b[0;34m,\u001b[0m \u001b[0mpassword\u001b[0m\u001b[0;34m)\u001b[0m\u001b[0;34m:\u001b[0m\u001b[0;34m\u001b[0m\u001b[0;34m\u001b[0m\u001b[0m\n",
            "\u001b[0;32m/usr/local/lib/python3.11/dist-packages/selenium/webdriver/chrome/webdriver.py\u001b[0m in \u001b[0;36m__init__\u001b[0;34m(self, options, service, keep_alive)\u001b[0m\n\u001b[1;32m     45\u001b[0m         \u001b[0moptions\u001b[0m \u001b[0;34m=\u001b[0m \u001b[0moptions\u001b[0m \u001b[0;32mif\u001b[0m \u001b[0moptions\u001b[0m \u001b[0;32melse\u001b[0m \u001b[0mOptions\u001b[0m\u001b[0;34m(\u001b[0m\u001b[0;34m)\u001b[0m\u001b[0;34m\u001b[0m\u001b[0;34m\u001b[0m\u001b[0m\n\u001b[1;32m     46\u001b[0m \u001b[0;34m\u001b[0m\u001b[0m\n\u001b[0;32m---> 47\u001b[0;31m         super().__init__(\n\u001b[0m\u001b[1;32m     48\u001b[0m             \u001b[0mbrowser_name\u001b[0m\u001b[0;34m=\u001b[0m\u001b[0mDesiredCapabilities\u001b[0m\u001b[0;34m.\u001b[0m\u001b[0mCHROME\u001b[0m\u001b[0;34m[\u001b[0m\u001b[0;34m\"browserName\"\u001b[0m\u001b[0;34m]\u001b[0m\u001b[0;34m,\u001b[0m\u001b[0;34m\u001b[0m\u001b[0;34m\u001b[0m\u001b[0m\n\u001b[1;32m     49\u001b[0m             \u001b[0mvendor_prefix\u001b[0m\u001b[0;34m=\u001b[0m\u001b[0;34m\"goog\"\u001b[0m\u001b[0;34m,\u001b[0m\u001b[0;34m\u001b[0m\u001b[0;34m\u001b[0m\u001b[0m\n",
            "\u001b[0;32m/usr/local/lib/python3.11/dist-packages/selenium/webdriver/chromium/webdriver.py\u001b[0m in \u001b[0;36m__init__\u001b[0;34m(self, browser_name, vendor_prefix, options, service, keep_alive)\u001b[0m\n\u001b[1;32m     56\u001b[0m \u001b[0;34m\u001b[0m\u001b[0m\n\u001b[1;32m     57\u001b[0m         \u001b[0mself\u001b[0m\u001b[0;34m.\u001b[0m\u001b[0mservice\u001b[0m\u001b[0;34m.\u001b[0m\u001b[0mpath\u001b[0m \u001b[0;34m=\u001b[0m \u001b[0mself\u001b[0m\u001b[0;34m.\u001b[0m\u001b[0mservice\u001b[0m\u001b[0;34m.\u001b[0m\u001b[0menv_path\u001b[0m\u001b[0;34m(\u001b[0m\u001b[0;34m)\u001b[0m \u001b[0;32mor\u001b[0m \u001b[0mfinder\u001b[0m\u001b[0;34m.\u001b[0m\u001b[0mget_driver_path\u001b[0m\u001b[0;34m(\u001b[0m\u001b[0;34m)\u001b[0m\u001b[0;34m\u001b[0m\u001b[0;34m\u001b[0m\u001b[0m\n\u001b[0;32m---> 58\u001b[0;31m         \u001b[0mself\u001b[0m\u001b[0;34m.\u001b[0m\u001b[0mservice\u001b[0m\u001b[0;34m.\u001b[0m\u001b[0mstart\u001b[0m\u001b[0;34m(\u001b[0m\u001b[0;34m)\u001b[0m\u001b[0;34m\u001b[0m\u001b[0;34m\u001b[0m\u001b[0m\n\u001b[0m\u001b[1;32m     59\u001b[0m \u001b[0;34m\u001b[0m\u001b[0m\n\u001b[1;32m     60\u001b[0m         executor = ChromiumRemoteConnection(\n",
            "\u001b[0;32m/usr/local/lib/python3.11/dist-packages/selenium/webdriver/common/service.py\u001b[0m in \u001b[0;36mstart\u001b[0;34m(self)\u001b[0m\n\u001b[1;32m    106\u001b[0m         \u001b[0mcount\u001b[0m \u001b[0;34m=\u001b[0m \u001b[0;36m0\u001b[0m\u001b[0;34m\u001b[0m\u001b[0;34m\u001b[0m\u001b[0m\n\u001b[1;32m    107\u001b[0m         \u001b[0;32mwhile\u001b[0m \u001b[0;32mTrue\u001b[0m\u001b[0;34m:\u001b[0m\u001b[0;34m\u001b[0m\u001b[0;34m\u001b[0m\u001b[0m\n\u001b[0;32m--> 108\u001b[0;31m             \u001b[0mself\u001b[0m\u001b[0;34m.\u001b[0m\u001b[0massert_process_still_running\u001b[0m\u001b[0;34m(\u001b[0m\u001b[0;34m)\u001b[0m\u001b[0;34m\u001b[0m\u001b[0;34m\u001b[0m\u001b[0m\n\u001b[0m\u001b[1;32m    109\u001b[0m             \u001b[0;32mif\u001b[0m \u001b[0mself\u001b[0m\u001b[0;34m.\u001b[0m\u001b[0mis_connectable\u001b[0m\u001b[0;34m(\u001b[0m\u001b[0;34m)\u001b[0m\u001b[0;34m:\u001b[0m\u001b[0;34m\u001b[0m\u001b[0;34m\u001b[0m\u001b[0m\n\u001b[1;32m    110\u001b[0m                 \u001b[0;32mbreak\u001b[0m\u001b[0;34m\u001b[0m\u001b[0;34m\u001b[0m\u001b[0m\n",
            "\u001b[0;32m/usr/local/lib/python3.11/dist-packages/selenium/webdriver/common/service.py\u001b[0m in \u001b[0;36massert_process_still_running\u001b[0;34m(self)\u001b[0m\n\u001b[1;32m    119\u001b[0m         \u001b[0mreturn_code\u001b[0m \u001b[0;34m=\u001b[0m \u001b[0mself\u001b[0m\u001b[0;34m.\u001b[0m\u001b[0mprocess\u001b[0m\u001b[0;34m.\u001b[0m\u001b[0mpoll\u001b[0m\u001b[0;34m(\u001b[0m\u001b[0;34m)\u001b[0m\u001b[0;34m\u001b[0m\u001b[0;34m\u001b[0m\u001b[0m\n\u001b[1;32m    120\u001b[0m         \u001b[0;32mif\u001b[0m \u001b[0mreturn_code\u001b[0m\u001b[0;34m:\u001b[0m\u001b[0;34m\u001b[0m\u001b[0;34m\u001b[0m\u001b[0m\n\u001b[0;32m--> 121\u001b[0;31m             \u001b[0;32mraise\u001b[0m \u001b[0mWebDriverException\u001b[0m\u001b[0;34m(\u001b[0m\u001b[0;34mf\"Service {self._path} unexpectedly exited. Status code was: {return_code}\"\u001b[0m\u001b[0;34m)\u001b[0m\u001b[0;34m\u001b[0m\u001b[0;34m\u001b[0m\u001b[0m\n\u001b[0m\u001b[1;32m    122\u001b[0m \u001b[0;34m\u001b[0m\u001b[0m\n\u001b[1;32m    123\u001b[0m     \u001b[0;32mdef\u001b[0m \u001b[0mis_connectable\u001b[0m\u001b[0;34m(\u001b[0m\u001b[0mself\u001b[0m\u001b[0;34m)\u001b[0m \u001b[0;34m->\u001b[0m \u001b[0mbool\u001b[0m\u001b[0;34m:\u001b[0m\u001b[0;34m\u001b[0m\u001b[0;34m\u001b[0m\u001b[0m\n",
            "\u001b[0;31mWebDriverException\u001b[0m: Message: Service /usr/lib/chromium-browser/chromedriver unexpectedly exited. Status code was: 1\n"
          ]
        }
      ]
    },
    {
      "cell_type": "markdown",
      "source": [
        "## ✅ Task 3: Predictive Analytics for Resource Allocation  \n",
        "\n",
        "In this task, we use the **Breast Cancer Wisconsin dataset** to simulate resource allocation.  \n",
        "The **goal** is to predict **issue priority**:  \n",
        "\n",
        "- **High Priority** → Malignant cases (requiring urgent attention)  \n",
        "- **Low Priority** → Benign cases (less urgent)  \n",
        "\n",
        "### ✅ Approach  \n",
        "1. **Load & preprocess data** → Clean, label, and split into training/testing sets.  \n",
        "2. **Train a Random Forest model** → Learn patterns that distinguish high/low priority cases.  \n",
        "3. **Evaluate model performance** → Using **Accuracy** and **F1-score** for balanced assessment.  \n",
        "4. **Analyze feature importance** → Understand which factors contribute most to priority decisions.  \n",
        "\n",
        "This approach demonstrates how **AI-powered predictive analytics** can help optimize **resource allocation** by focusing attention on critical issues first.  \n"
      ],
      "metadata": {
        "id": "ZYfmaWztnoNC"
      }
    },
    {
      "cell_type": "code",
      "source": [
        "# ✅ TASK 3: Predictive Analytics for Resource Allocation\n",
        "\n",
        "from sklearn.datasets import load_breast_cancer\n",
        "from sklearn.ensemble import RandomForestClassifier\n",
        "from sklearn.metrics import accuracy_score, f1_score, classification_report\n",
        "from sklearn.model_selection import train_test_split\n",
        "import pandas as pd\n",
        "\n",
        "# ✅ Load Breast Cancer dataset\n",
        "data = load_breast_cancer()\n",
        "\n",
        "# ✅ Features (X) and Labels (y)\n",
        "X = data.data\n",
        "y = data.target  # 0 = Malignant (High Priority), 1 = Benign (Low Priority)\n",
        "\n",
        "# ✅ Convert to DataFrame for readability\n",
        "df = pd.DataFrame(X, columns=data.feature_names)\n",
        "df[\"priority\"] = y\n",
        "print(\"✅ Dataset Shape:\", df.shape)\n",
        "print(df.head())\n",
        "\n",
        "# ✅ Split dataset into Train & Test sets (80% train, 20% test)\n",
        "X_train, X_test, y_train, y_test = train_test_split(X, y, test_size=0.2, random_state=42)\n",
        "\n",
        "# ✅ Train Random Forest Classifier\n",
        "rf_model = RandomForestClassifier(random_state=42, n_estimators=100)\n",
        "rf_model.fit(X_train, y_train)\n",
        "\n",
        "# ✅ Make predictions\n",
        "y_pred = rf_model.predict(X_test)\n",
        "\n",
        "# ✅ Evaluate performance\n",
        "accuracy = accuracy_score(y_test, y_pred)\n",
        "f1 = f1_score(y_test, y_pred)\n",
        "\n",
        "print(\"\\n✅ Model Performance Metrics:\")\n",
        "print(f\"Accuracy: {accuracy:.4f}\")\n",
        "print(f\"F1-score: {f1:.4f}\")\n",
        "\n",
        "# ✅ Detailed classification report\n",
        "print(\"\\nClassification Report:\")\n",
        "print(classification_report(y_test, y_pred, target_names=[\"High Priority (Malignant)\", \"Low Priority (Benign)\"]))\n",
        "\n",
        "# ✅ Feature Importance (Which features are most important?)\n",
        "feature_importance = pd.Series(rf_model.feature_importances_, index=data.feature_names).sort_values(ascending=False)\n",
        "print(\"\\n✅ Top 5 Important Features for Prediction:\")\n",
        "print(feature_importance.head(5))\n"
      ],
      "metadata": {
        "colab": {
          "base_uri": "https://localhost:8080/"
        },
        "id": "hEnLaPqdnrKU",
        "outputId": "ed6d1e29-7d49-43d9-8767-cc20a3d1235c"
      },
      "execution_count": 8,
      "outputs": [
        {
          "output_type": "stream",
          "name": "stdout",
          "text": [
            "✅ Dataset Shape: (569, 31)\n",
            "   mean radius  mean texture  mean perimeter  mean area  mean smoothness  \\\n",
            "0        17.99         10.38          122.80     1001.0          0.11840   \n",
            "1        20.57         17.77          132.90     1326.0          0.08474   \n",
            "2        19.69         21.25          130.00     1203.0          0.10960   \n",
            "3        11.42         20.38           77.58      386.1          0.14250   \n",
            "4        20.29         14.34          135.10     1297.0          0.10030   \n",
            "\n",
            "   mean compactness  mean concavity  mean concave points  mean symmetry  \\\n",
            "0           0.27760          0.3001              0.14710         0.2419   \n",
            "1           0.07864          0.0869              0.07017         0.1812   \n",
            "2           0.15990          0.1974              0.12790         0.2069   \n",
            "3           0.28390          0.2414              0.10520         0.2597   \n",
            "4           0.13280          0.1980              0.10430         0.1809   \n",
            "\n",
            "   mean fractal dimension  ...  worst texture  worst perimeter  worst area  \\\n",
            "0                 0.07871  ...          17.33           184.60      2019.0   \n",
            "1                 0.05667  ...          23.41           158.80      1956.0   \n",
            "2                 0.05999  ...          25.53           152.50      1709.0   \n",
            "3                 0.09744  ...          26.50            98.87       567.7   \n",
            "4                 0.05883  ...          16.67           152.20      1575.0   \n",
            "\n",
            "   worst smoothness  worst compactness  worst concavity  worst concave points  \\\n",
            "0            0.1622             0.6656           0.7119                0.2654   \n",
            "1            0.1238             0.1866           0.2416                0.1860   \n",
            "2            0.1444             0.4245           0.4504                0.2430   \n",
            "3            0.2098             0.8663           0.6869                0.2575   \n",
            "4            0.1374             0.2050           0.4000                0.1625   \n",
            "\n",
            "   worst symmetry  worst fractal dimension  priority  \n",
            "0          0.4601                  0.11890         0  \n",
            "1          0.2750                  0.08902         0  \n",
            "2          0.3613                  0.08758         0  \n",
            "3          0.6638                  0.17300         0  \n",
            "4          0.2364                  0.07678         0  \n",
            "\n",
            "[5 rows x 31 columns]\n",
            "\n",
            "✅ Model Performance Metrics:\n",
            "Accuracy: 0.9649\n",
            "F1-score: 0.9722\n",
            "\n",
            "Classification Report:\n",
            "                           precision    recall  f1-score   support\n",
            "\n",
            "High Priority (Malignant)       0.98      0.93      0.95        43\n",
            "    Low Priority (Benign)       0.96      0.99      0.97        71\n",
            "\n",
            "                 accuracy                           0.96       114\n",
            "                macro avg       0.97      0.96      0.96       114\n",
            "             weighted avg       0.97      0.96      0.96       114\n",
            "\n",
            "\n",
            "✅ Top 5 Important Features for Prediction:\n",
            "worst area              0.153892\n",
            "worst concave points    0.144663\n",
            "mean concave points     0.106210\n",
            "worst radius            0.077987\n",
            "mean concavity          0.068001\n",
            "dtype: float64\n"
          ]
        }
      ]
    },
    {
      "cell_type": "markdown",
      "source": [],
      "metadata": {
        "id": "I4-8XBe5ixGD"
      }
    },
    {
      "cell_type": "markdown",
      "source": [
        "### ✅ Analysis  \n",
        "\n",
        "- The **Random Forest model** achieved **high accuracy (~97%)** and a strong **F1-score**, showing it effectively balances precision and recall.  \n",
        "- This means the model can **reliably prioritize high-risk cases**, ensuring better resource allocation.  \n",
        "- **Feature importance** shows which medical factors most strongly influence predictions (e.g., tumor concavity, size).  \n",
        "\n",
        "This demonstrates how predictive analytics can help organizations **focus resources on the most critical issues**.  \n"
      ],
      "metadata": {
        "id": "hVreZVLKn3KU"
      }
    }
  ]
}